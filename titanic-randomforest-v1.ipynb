{
 "cells": [
  {
   "cell_type": "code",
   "execution_count": 1,
   "id": "c4d8c2af",
   "metadata": {
    "execution": {
     "iopub.execute_input": "2025-05-13T14:47:41.619087Z",
     "iopub.status.busy": "2025-05-13T14:47:41.618679Z",
     "iopub.status.idle": "2025-05-13T14:47:45.829448Z",
     "shell.execute_reply": "2025-05-13T14:47:45.828497Z"
    },
    "papermill": {
     "duration": 4.218355,
     "end_time": "2025-05-13T14:47:45.831272",
     "exception": false,
     "start_time": "2025-05-13T14:47:41.612917",
     "status": "completed"
    },
    "tags": []
   },
   "outputs": [],
   "source": [
    "# Kütüphaneler\n",
    "import pandas as pd\n",
    "import numpy as np\n",
    "from sklearn.ensemble import RandomForestClassifier"
   ]
  },
  {
   "cell_type": "code",
   "execution_count": 2,
   "id": "e04c0a9f",
   "metadata": {
    "execution": {
     "iopub.execute_input": "2025-05-13T14:47:45.840299Z",
     "iopub.status.busy": "2025-05-13T14:47:45.839839Z",
     "iopub.status.idle": "2025-05-13T14:47:45.874291Z",
     "shell.execute_reply": "2025-05-13T14:47:45.873446Z"
    },
    "papermill": {
     "duration": 0.040782,
     "end_time": "2025-05-13T14:47:45.876042",
     "exception": false,
     "start_time": "2025-05-13T14:47:45.835260",
     "status": "completed"
    },
    "tags": []
   },
   "outputs": [],
   "source": [
    "# Veriyi yükle\n",
    "train_df = pd.read_csv('/kaggle/input/titanic/train.csv')\n",
    "test_df = pd.read_csv('/kaggle/input/titanic/test.csv')"
   ]
  },
  {
   "cell_type": "code",
   "execution_count": 3,
   "id": "a299ddd6",
   "metadata": {
    "execution": {
     "iopub.execute_input": "2025-05-13T14:47:45.884562Z",
     "iopub.status.busy": "2025-05-13T14:47:45.884209Z",
     "iopub.status.idle": "2025-05-13T14:47:45.912908Z",
     "shell.execute_reply": "2025-05-13T14:47:45.911431Z"
    },
    "papermill": {
     "duration": 0.035097,
     "end_time": "2025-05-13T14:47:45.914956",
     "exception": false,
     "start_time": "2025-05-13T14:47:45.879859",
     "status": "completed"
    },
    "tags": []
   },
   "outputs": [
    {
     "data": {
      "text/html": [
       "<div>\n",
       "<style scoped>\n",
       "    .dataframe tbody tr th:only-of-type {\n",
       "        vertical-align: middle;\n",
       "    }\n",
       "\n",
       "    .dataframe tbody tr th {\n",
       "        vertical-align: top;\n",
       "    }\n",
       "\n",
       "    .dataframe thead th {\n",
       "        text-align: right;\n",
       "    }\n",
       "</style>\n",
       "<table border=\"1\" class=\"dataframe\">\n",
       "  <thead>\n",
       "    <tr style=\"text-align: right;\">\n",
       "      <th></th>\n",
       "      <th>PassengerId</th>\n",
       "      <th>Pclass</th>\n",
       "      <th>Name</th>\n",
       "      <th>Sex</th>\n",
       "      <th>Age</th>\n",
       "      <th>SibSp</th>\n",
       "      <th>Parch</th>\n",
       "      <th>Ticket</th>\n",
       "      <th>Fare</th>\n",
       "      <th>Cabin</th>\n",
       "      <th>Embarked</th>\n",
       "    </tr>\n",
       "  </thead>\n",
       "  <tbody>\n",
       "    <tr>\n",
       "      <th>0</th>\n",
       "      <td>892</td>\n",
       "      <td>3</td>\n",
       "      <td>Kelly, Mr. James</td>\n",
       "      <td>male</td>\n",
       "      <td>34.5</td>\n",
       "      <td>0</td>\n",
       "      <td>0</td>\n",
       "      <td>330911</td>\n",
       "      <td>7.8292</td>\n",
       "      <td>NaN</td>\n",
       "      <td>Q</td>\n",
       "    </tr>\n",
       "    <tr>\n",
       "      <th>1</th>\n",
       "      <td>893</td>\n",
       "      <td>3</td>\n",
       "      <td>Wilkes, Mrs. James (Ellen Needs)</td>\n",
       "      <td>female</td>\n",
       "      <td>47.0</td>\n",
       "      <td>1</td>\n",
       "      <td>0</td>\n",
       "      <td>363272</td>\n",
       "      <td>7.0000</td>\n",
       "      <td>NaN</td>\n",
       "      <td>S</td>\n",
       "    </tr>\n",
       "    <tr>\n",
       "      <th>2</th>\n",
       "      <td>894</td>\n",
       "      <td>2</td>\n",
       "      <td>Myles, Mr. Thomas Francis</td>\n",
       "      <td>male</td>\n",
       "      <td>62.0</td>\n",
       "      <td>0</td>\n",
       "      <td>0</td>\n",
       "      <td>240276</td>\n",
       "      <td>9.6875</td>\n",
       "      <td>NaN</td>\n",
       "      <td>Q</td>\n",
       "    </tr>\n",
       "    <tr>\n",
       "      <th>3</th>\n",
       "      <td>895</td>\n",
       "      <td>3</td>\n",
       "      <td>Wirz, Mr. Albert</td>\n",
       "      <td>male</td>\n",
       "      <td>27.0</td>\n",
       "      <td>0</td>\n",
       "      <td>0</td>\n",
       "      <td>315154</td>\n",
       "      <td>8.6625</td>\n",
       "      <td>NaN</td>\n",
       "      <td>S</td>\n",
       "    </tr>\n",
       "    <tr>\n",
       "      <th>4</th>\n",
       "      <td>896</td>\n",
       "      <td>3</td>\n",
       "      <td>Hirvonen, Mrs. Alexander (Helga E Lindqvist)</td>\n",
       "      <td>female</td>\n",
       "      <td>22.0</td>\n",
       "      <td>1</td>\n",
       "      <td>1</td>\n",
       "      <td>3101298</td>\n",
       "      <td>12.2875</td>\n",
       "      <td>NaN</td>\n",
       "      <td>S</td>\n",
       "    </tr>\n",
       "  </tbody>\n",
       "</table>\n",
       "</div>"
      ],
      "text/plain": [
       "   PassengerId  Pclass                                          Name     Sex  \\\n",
       "0          892       3                              Kelly, Mr. James    male   \n",
       "1          893       3              Wilkes, Mrs. James (Ellen Needs)  female   \n",
       "2          894       2                     Myles, Mr. Thomas Francis    male   \n",
       "3          895       3                              Wirz, Mr. Albert    male   \n",
       "4          896       3  Hirvonen, Mrs. Alexander (Helga E Lindqvist)  female   \n",
       "\n",
       "    Age  SibSp  Parch   Ticket     Fare Cabin Embarked  \n",
       "0  34.5      0      0   330911   7.8292   NaN        Q  \n",
       "1  47.0      1      0   363272   7.0000   NaN        S  \n",
       "2  62.0      0      0   240276   9.6875   NaN        Q  \n",
       "3  27.0      0      0   315154   8.6625   NaN        S  \n",
       "4  22.0      1      1  3101298  12.2875   NaN        S  "
      ]
     },
     "execution_count": 3,
     "metadata": {},
     "output_type": "execute_result"
    }
   ],
   "source": [
    "test_df.head()"
   ]
  },
  {
   "cell_type": "code",
   "execution_count": 4,
   "id": "abe68974",
   "metadata": {
    "execution": {
     "iopub.execute_input": "2025-05-13T14:47:45.924067Z",
     "iopub.status.busy": "2025-05-13T14:47:45.923727Z",
     "iopub.status.idle": "2025-05-13T14:47:45.929145Z",
     "shell.execute_reply": "2025-05-13T14:47:45.928211Z"
    },
    "papermill": {
     "duration": 0.011802,
     "end_time": "2025-05-13T14:47:45.930787",
     "exception": false,
     "start_time": "2025-05-13T14:47:45.918985",
     "status": "completed"
    },
    "tags": []
   },
   "outputs": [
    {
     "name": "stdout",
     "output_type": "stream",
     "text": [
      "Train sütunları: ['PassengerId', 'Survived', 'Pclass', 'Name', 'Sex', 'Age', 'SibSp', 'Parch', 'Ticket', 'Fare', 'Cabin', 'Embarked']\n"
     ]
    }
   ],
   "source": [
    "print(\"Train sütunları:\", train_df.columns.tolist())"
   ]
  },
  {
   "cell_type": "code",
   "execution_count": 5,
   "id": "14641731",
   "metadata": {
    "execution": {
     "iopub.execute_input": "2025-05-13T14:47:45.939980Z",
     "iopub.status.busy": "2025-05-13T14:47:45.939617Z",
     "iopub.status.idle": "2025-05-13T14:47:45.944744Z",
     "shell.execute_reply": "2025-05-13T14:47:45.943544Z"
    },
    "papermill": {
     "duration": 0.01144,
     "end_time": "2025-05-13T14:47:45.946298",
     "exception": false,
     "start_time": "2025-05-13T14:47:45.934858",
     "status": "completed"
    },
    "tags": []
   },
   "outputs": [
    {
     "name": "stdout",
     "output_type": "stream",
     "text": [
      "Test sütunları: ['PassengerId', 'Pclass', 'Name', 'Sex', 'Age', 'SibSp', 'Parch', 'Ticket', 'Fare', 'Cabin', 'Embarked']\n"
     ]
    }
   ],
   "source": [
    "print(\"Test sütunları:\", test_df.columns.tolist())"
   ]
  },
  {
   "cell_type": "code",
   "execution_count": 6,
   "id": "95d4a465",
   "metadata": {
    "execution": {
     "iopub.execute_input": "2025-05-13T14:47:45.955261Z",
     "iopub.status.busy": "2025-05-13T14:47:45.954956Z",
     "iopub.status.idle": "2025-05-13T14:47:45.962624Z",
     "shell.execute_reply": "2025-05-13T14:47:45.961567Z"
    },
    "papermill": {
     "duration": 0.013875,
     "end_time": "2025-05-13T14:47:45.964109",
     "exception": false,
     "start_time": "2025-05-13T14:47:45.950234",
     "status": "completed"
    },
    "tags": []
   },
   "outputs": [
    {
     "name": "stdout",
     "output_type": "stream",
     "text": [
      "\n",
      "Train eksik veriler:\n",
      " PassengerId      0\n",
      "Survived         0\n",
      "Pclass           0\n",
      "Name             0\n",
      "Sex              0\n",
      "Age            177\n",
      "SibSp            0\n",
      "Parch            0\n",
      "Ticket           0\n",
      "Fare             0\n",
      "Cabin          687\n",
      "Embarked         2\n",
      "dtype: int64\n"
     ]
    }
   ],
   "source": [
    "print(\"\\nTrain eksik veriler:\\n\", train_df.isnull().sum())"
   ]
  },
  {
   "cell_type": "code",
   "execution_count": 7,
   "id": "98262dcc",
   "metadata": {
    "execution": {
     "iopub.execute_input": "2025-05-13T14:47:45.974112Z",
     "iopub.status.busy": "2025-05-13T14:47:45.973761Z",
     "iopub.status.idle": "2025-05-13T14:47:45.980992Z",
     "shell.execute_reply": "2025-05-13T14:47:45.979713Z"
    },
    "papermill": {
     "duration": 0.014513,
     "end_time": "2025-05-13T14:47:45.982740",
     "exception": false,
     "start_time": "2025-05-13T14:47:45.968227",
     "status": "completed"
    },
    "tags": []
   },
   "outputs": [
    {
     "name": "stdout",
     "output_type": "stream",
     "text": [
      "\n",
      "Test eksik veriler:\n",
      " PassengerId      0\n",
      "Pclass           0\n",
      "Name             0\n",
      "Sex              0\n",
      "Age             86\n",
      "SibSp            0\n",
      "Parch            0\n",
      "Ticket           0\n",
      "Fare             1\n",
      "Cabin          327\n",
      "Embarked         0\n",
      "dtype: int64\n"
     ]
    }
   ],
   "source": [
    "print(\"\\nTest eksik veriler:\\n\", test_df.isnull().sum())"
   ]
  },
  {
   "cell_type": "code",
   "execution_count": 8,
   "id": "2d332f5c",
   "metadata": {
    "execution": {
     "iopub.execute_input": "2025-05-13T14:47:45.992285Z",
     "iopub.status.busy": "2025-05-13T14:47:45.991968Z",
     "iopub.status.idle": "2025-05-13T14:47:46.004266Z",
     "shell.execute_reply": "2025-05-13T14:47:46.003073Z"
    },
    "papermill": {
     "duration": 0.019241,
     "end_time": "2025-05-13T14:47:46.006112",
     "exception": false,
     "start_time": "2025-05-13T14:47:45.986871",
     "status": "completed"
    },
    "tags": []
   },
   "outputs": [
    {
     "name": "stdout",
     "output_type": "stream",
     "text": [
      "Train sütunları: ['PassengerId', 'Survived', 'Pclass', 'Name', 'Sex', 'Age', 'SibSp', 'Parch', 'Ticket', 'Fare', 'Cabin', 'Embarked']\n",
      "Test sütunları: ['PassengerId', 'Pclass', 'Name', 'Sex', 'Age', 'SibSp', 'Parch', 'Ticket', 'Fare', 'Cabin', 'Embarked']\n",
      "\n",
      "Train eksik veriler:\n",
      " PassengerId      0\n",
      "Survived         0\n",
      "Pclass           0\n",
      "Name             0\n",
      "Sex              0\n",
      "Age            177\n",
      "SibSp            0\n",
      "Parch            0\n",
      "Ticket           0\n",
      "Fare             0\n",
      "Cabin          687\n",
      "Embarked         2\n",
      "dtype: int64\n",
      "\n",
      "Test eksik veriler:\n",
      " PassengerId      0\n",
      "Pclass           0\n",
      "Name             0\n",
      "Sex              0\n",
      "Age             86\n",
      "SibSp            0\n",
      "Parch            0\n",
      "Ticket           0\n",
      "Fare             1\n",
      "Cabin          327\n",
      "Embarked         0\n",
      "dtype: int64\n",
      "\n",
      "Train Sex sütunu (ilk 10 satır):\n",
      " 0      male\n",
      "1    female\n",
      "2    female\n",
      "3    female\n",
      "4      male\n",
      "5      male\n",
      "6      male\n",
      "7      male\n",
      "8    female\n",
      "9    female\n",
      "Name: Sex, dtype: object\n"
     ]
    }
   ],
   "source": [
    "print(\"Train sütunları:\", train_df.columns.tolist())\n",
    "print(\"Test sütunları:\", test_df.columns.tolist())\n",
    "print(\"\\nTrain eksik veriler:\\n\", train_df.isnull().sum())\n",
    "print(\"\\nTest eksik veriler:\\n\", test_df.isnull().sum())\n",
    "print(\"\\nTrain Sex sütunu (ilk 10 satır):\\n\", train_df['Sex'].head(10))"
   ]
  },
  {
   "cell_type": "code",
   "execution_count": 9,
   "id": "b319be62",
   "metadata": {
    "execution": {
     "iopub.execute_input": "2025-05-13T14:47:46.015795Z",
     "iopub.status.busy": "2025-05-13T14:47:46.015484Z",
     "iopub.status.idle": "2025-05-13T14:47:46.022186Z",
     "shell.execute_reply": "2025-05-13T14:47:46.021208Z"
    },
    "papermill": {
     "duration": 0.013263,
     "end_time": "2025-05-13T14:47:46.023749",
     "exception": false,
     "start_time": "2025-05-13T14:47:46.010486",
     "status": "completed"
    },
    "tags": []
   },
   "outputs": [],
   "source": [
    "# Ön işleme\n",
    "train_df['Age'] = train_df['Age'].fillna(train_df['Age'].median())\n",
    "test_df['Age'] = test_df['Age'].fillna(test_df['Age'].median())"
   ]
  },
  {
   "cell_type": "code",
   "execution_count": 10,
   "id": "8c67bb76",
   "metadata": {
    "execution": {
     "iopub.execute_input": "2025-05-13T14:47:46.033199Z",
     "iopub.status.busy": "2025-05-13T14:47:46.032852Z",
     "iopub.status.idle": "2025-05-13T14:47:46.040216Z",
     "shell.execute_reply": "2025-05-13T14:47:46.039226Z"
    },
    "papermill": {
     "duration": 0.014041,
     "end_time": "2025-05-13T14:47:46.041857",
     "exception": false,
     "start_time": "2025-05-13T14:47:46.027816",
     "status": "completed"
    },
    "tags": []
   },
   "outputs": [],
   "source": [
    "# Fare: Medyan ile doldur\n",
    "train_df['Fare'] = train_df['Fare'].fillna(train_df['Fare'].median())\n",
    "test_df['Fare'] = test_df['Fare'].fillna(test_df['Fare'].median())"
   ]
  },
  {
   "cell_type": "code",
   "execution_count": 11,
   "id": "831300a4",
   "metadata": {
    "execution": {
     "iopub.execute_input": "2025-05-13T14:47:46.051441Z",
     "iopub.status.busy": "2025-05-13T14:47:46.051060Z",
     "iopub.status.idle": "2025-05-13T14:47:46.062301Z",
     "shell.execute_reply": "2025-05-13T14:47:46.061578Z"
    },
    "papermill": {
     "duration": 0.017832,
     "end_time": "2025-05-13T14:47:46.063860",
     "exception": false,
     "start_time": "2025-05-13T14:47:46.046028",
     "status": "completed"
    },
    "tags": []
   },
   "outputs": [],
   "source": [
    "# Sex: Eksik değerleri mod ile doldur ve sayısala çevir\n",
    "if train_df['Sex'].isnull().sum() > 0:\n",
    "    print(\"Sex sütununda eksik veri var, mod ile dolduruluyor.\")\n",
    "    train_df['Sex'] = train_df['Sex'].fillna(train_df['Sex'].mode()[0])\n",
    "if test_df['Sex'].isnull().sum() > 0:\n",
    "    test_df['Sex'] = test_df['Sex'].fillna(test_df['Sex'].mode()[0])\n",
    "train_df['Sex'] = train_df['Sex'].map({'male': 0, 'female': 1})\n",
    "test_df['Sex'] = test_df['Sex'].map({'male': 0, 'female': 1})"
   ]
  },
  {
   "cell_type": "code",
   "execution_count": 12,
   "id": "17919388",
   "metadata": {
    "execution": {
     "iopub.execute_input": "2025-05-13T14:47:46.073384Z",
     "iopub.status.busy": "2025-05-13T14:47:46.072998Z",
     "iopub.status.idle": "2025-05-13T14:47:46.093057Z",
     "shell.execute_reply": "2025-05-13T14:47:46.092197Z"
    },
    "papermill": {
     "duration": 0.026868,
     "end_time": "2025-05-13T14:47:46.094777",
     "exception": false,
     "start_time": "2025-05-13T14:47:46.067909",
     "status": "completed"
    },
    "tags": []
   },
   "outputs": [],
   "source": [
    "# Embarked: Varsa doldur ve dummy değişkenlere çevir\n",
    "if 'Embarked' in train_df.columns:\n",
    "    train_df['Embarked'] = train_df['Embarked'].fillna(train_df['Embarked'].mode()[0])\n",
    "    train_df = pd.get_dummies(train_df, columns=['Embarked'], drop_first=True)\n",
    "else:\n",
    "    print(\"Train'de Embarked sütunu yok, dummy değişkenler kullanılıyor.\")\n",
    "\n",
    "if 'Embarked' in test_df.columns:\n",
    "    test_df['Embarked'] = test_df['Embarked'].fillna(test_df['Embarked'].mode()[0])\n",
    "    test_df = pd.get_dummies(test_df, columns=['Embarked'], drop_first=True)\n",
    "else:\n",
    "    print(\"Test'de Embarked sütunu yok, dummy değişkenler kullanılıyor.\")"
   ]
  },
  {
   "cell_type": "code",
   "execution_count": 13,
   "id": "fdd0bff6",
   "metadata": {
    "execution": {
     "iopub.execute_input": "2025-05-13T14:47:46.104374Z",
     "iopub.status.busy": "2025-05-13T14:47:46.104026Z",
     "iopub.status.idle": "2025-05-13T14:47:46.112708Z",
     "shell.execute_reply": "2025-05-13T14:47:46.111745Z"
    },
    "papermill": {
     "duration": 0.015203,
     "end_time": "2025-05-13T14:47:46.114231",
     "exception": false,
     "start_time": "2025-05-13T14:47:46.099028",
     "status": "completed"
    },
    "tags": []
   },
   "outputs": [],
   "source": [
    "# Gereksiz sütunları kaldır\n",
    "train_df = train_df.drop(['Cabin', 'Name', 'Ticket'], axis=1, errors='ignore')\n",
    "test_df = test_df.drop(['Cabin', 'Name', 'Ticket'], axis=1, errors='ignore')"
   ]
  },
  {
   "cell_type": "code",
   "execution_count": 14,
   "id": "f4935496",
   "metadata": {
    "execution": {
     "iopub.execute_input": "2025-05-13T14:47:46.124883Z",
     "iopub.status.busy": "2025-05-13T14:47:46.124529Z",
     "iopub.status.idle": "2025-05-13T14:47:46.129658Z",
     "shell.execute_reply": "2025-05-13T14:47:46.128644Z"
    },
    "papermill": {
     "duration": 0.012484,
     "end_time": "2025-05-13T14:47:46.131394",
     "exception": false,
     "start_time": "2025-05-13T14:47:46.118910",
     "status": "completed"
    },
    "tags": []
   },
   "outputs": [],
   "source": [
    "# Özellikler\n",
    "features = ['Pclass', 'Sex', 'Age', 'SibSp', 'Parch', 'Fare']\n",
    "if 'Embarked_Q' in train_df.columns and 'Embarked_S' in train_df.columns:\n",
    "    features += ['Embarked_Q', 'Embarked_S']"
   ]
  },
  {
   "cell_type": "code",
   "execution_count": 15,
   "id": "cd6cfa5c",
   "metadata": {
    "execution": {
     "iopub.execute_input": "2025-05-13T14:47:46.140987Z",
     "iopub.status.busy": "2025-05-13T14:47:46.140663Z",
     "iopub.status.idle": "2025-05-13T14:47:46.147958Z",
     "shell.execute_reply": "2025-05-13T14:47:46.146883Z"
    },
    "papermill": {
     "duration": 0.014062,
     "end_time": "2025-05-13T14:47:46.149639",
     "exception": false,
     "start_time": "2025-05-13T14:47:46.135577",
     "status": "completed"
    },
    "tags": []
   },
   "outputs": [],
   "source": [
    "X = train_df[features]\n",
    "y = train_df['Survived']\n",
    "X_test = test_df[features]"
   ]
  },
  {
   "cell_type": "code",
   "execution_count": 16,
   "id": "f42d2dd2",
   "metadata": {
    "execution": {
     "iopub.execute_input": "2025-05-13T14:47:46.159983Z",
     "iopub.status.busy": "2025-05-13T14:47:46.159180Z",
     "iopub.status.idle": "2025-05-13T14:47:46.373305Z",
     "shell.execute_reply": "2025-05-13T14:47:46.372214Z"
    },
    "papermill": {
     "duration": 0.221058,
     "end_time": "2025-05-13T14:47:46.375153",
     "exception": false,
     "start_time": "2025-05-13T14:47:46.154095",
     "status": "completed"
    },
    "tags": []
   },
   "outputs": [],
   "source": [
    "# Model\n",
    "model = RandomForestClassifier(n_estimators=100, random_state=42)\n",
    "model.fit(X, y)\n",
    "predictions = model.predict(X_test)"
   ]
  },
  {
   "cell_type": "code",
   "execution_count": 17,
   "id": "85715e62",
   "metadata": {
    "execution": {
     "iopub.execute_input": "2025-05-13T14:47:46.384711Z",
     "iopub.status.busy": "2025-05-13T14:47:46.384395Z",
     "iopub.status.idle": "2025-05-13T14:47:46.399054Z",
     "shell.execute_reply": "2025-05-13T14:47:46.397650Z"
    },
    "papermill": {
     "duration": 0.021499,
     "end_time": "2025-05-13T14:47:46.400758",
     "exception": false,
     "start_time": "2025-05-13T14:47:46.379259",
     "status": "completed"
    },
    "tags": []
   },
   "outputs": [
    {
     "name": "stdout",
     "output_type": "stream",
     "text": [
      "submission.csv oluşturuldu!\n"
     ]
    }
   ],
   "source": [
    "submission = pd.DataFrame({'PassengerId': test_df['PassengerId'], 'Survived': predictions})\n",
    "submission.to_csv('submission.csv', index=False)\n",
    "print(\"submission.csv oluşturuldu!\")\n",
    "    "
   ]
  },
  {
   "cell_type": "code",
   "execution_count": null,
   "id": "a694a6b4",
   "metadata": {
    "papermill": {
     "duration": 0.00389,
     "end_time": "2025-05-13T14:47:46.408893",
     "exception": false,
     "start_time": "2025-05-13T14:47:46.405003",
     "status": "completed"
    },
    "tags": []
   },
   "outputs": [],
   "source": []
  }
 ],
 "metadata": {
  "kaggle": {
   "accelerator": "none",
   "dataSources": [
    {
     "databundleVersionId": 26502,
     "sourceId": 3136,
     "sourceType": "competition"
    }
   ],
   "dockerImageVersionId": 31040,
   "isGpuEnabled": false,
   "isInternetEnabled": true,
   "language": "python",
   "sourceType": "notebook"
  },
  "kernelspec": {
   "display_name": "Python 3",
   "language": "python",
   "name": "python3"
  },
  "language_info": {
   "codemirror_mode": {
    "name": "ipython",
    "version": 3
   },
   "file_extension": ".py",
   "mimetype": "text/x-python",
   "name": "python",
   "nbconvert_exporter": "python",
   "pygments_lexer": "ipython3",
   "version": "3.11.11"
  },
  "papermill": {
   "default_parameters": {},
   "duration": 11.811623,
   "end_time": "2025-05-13T14:47:47.133757",
   "environment_variables": {},
   "exception": null,
   "input_path": "__notebook__.ipynb",
   "output_path": "__notebook__.ipynb",
   "parameters": {},
   "start_time": "2025-05-13T14:47:35.322134",
   "version": "2.6.0"
  }
 },
 "nbformat": 4,
 "nbformat_minor": 5
}
